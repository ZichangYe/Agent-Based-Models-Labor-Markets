{
  "nbformat": 4,
  "nbformat_minor": 5,
  "metadata": {
    "colab": {
      "name": "Agent_Based_Models_Labor_Market.ipynb",
      "provenance": [],
      "collapsed_sections": []
    },
    "kernelspec": {
      "display_name": "Python 3",
      "language": "python",
      "name": "python3"
    },
    "language_info": {
      "codemirror_mode": {
        "name": "ipython",
        "version": 3
      },
      "file_extension": ".py",
      "mimetype": "text/x-python",
      "name": "python",
      "nbconvert_exporter": "python",
      "pygments_lexer": "ipython3",
      "version": "3.7.10"
    }
  },
  "cells": [
    {
      "cell_type": "code",
      "metadata": {
        "ExecuteTime": {
          "end_time": "2021-07-08T17:41:26.972564Z",
          "start_time": "2021-07-08T17:41:25.321383Z"
        },
        "colab": {
          "base_uri": "https://localhost:8080/"
        },
        "id": "welsh-payroll",
        "outputId": "ca8ec8ef-a832-4483-d75d-786343269e78"
      },
      "source": [
        "!pip install mesa\n",
        "from mesa import Agent, Model\n",
        "import numpy as np\n",
        "from mesa.time import RandomActivation\n",
        "import matplotlib.pyplot as plt\n",
        "import pandas as pd\n",
        "import os\n",
        "import scipy.stats as stats\n",
        "import seaborn as sns\n",
        "from tqdm import tqdm\n",
        "sns.set_theme()"
      ],
      "id": "welsh-payroll",
      "execution_count": 2,
      "outputs": [
        {
          "output_type": "stream",
          "text": [
            "Collecting mesa\n",
            "\u001b[?25l  Downloading https://files.pythonhosted.org/packages/3b/f1/f1d6ac8cd6e66cc2d0d1f9d631877110e87a74f113e6e3227e9054e09176/Mesa-0.8.9-py3-none-any.whl (668kB)\n",
            "\r\u001b[K     |▌                               | 10kB 13.5MB/s eta 0:00:01\r\u001b[K     |█                               | 20kB 17.8MB/s eta 0:00:01\r\u001b[K     |█▌                              | 30kB 20.5MB/s eta 0:00:01\r\u001b[K     |██                              | 40kB 23.0MB/s eta 0:00:01\r\u001b[K     |██▌                             | 51kB 24.1MB/s eta 0:00:01\r\u001b[K     |███                             | 61kB 26.3MB/s eta 0:00:01\r\u001b[K     |███▍                            | 71kB 26.6MB/s eta 0:00:01\r\u001b[K     |████                            | 81kB 26.6MB/s eta 0:00:01\r\u001b[K     |████▍                           | 92kB 26.3MB/s eta 0:00:01\r\u001b[K     |█████                           | 102kB 26.5MB/s eta 0:00:01\r\u001b[K     |█████▍                          | 112kB 26.5MB/s eta 0:00:01\r\u001b[K     |█████▉                          | 122kB 26.5MB/s eta 0:00:01\r\u001b[K     |██████▍                         | 133kB 26.5MB/s eta 0:00:01\r\u001b[K     |██████▉                         | 143kB 26.5MB/s eta 0:00:01\r\u001b[K     |███████▍                        | 153kB 26.5MB/s eta 0:00:01\r\u001b[K     |███████▉                        | 163kB 26.5MB/s eta 0:00:01\r\u001b[K     |████████▎                       | 174kB 26.5MB/s eta 0:00:01\r\u001b[K     |████████▉                       | 184kB 26.5MB/s eta 0:00:01\r\u001b[K     |█████████▎                      | 194kB 26.5MB/s eta 0:00:01\r\u001b[K     |█████████▉                      | 204kB 26.5MB/s eta 0:00:01\r\u001b[K     |██████████▎                     | 215kB 26.5MB/s eta 0:00:01\r\u001b[K     |██████████▊                     | 225kB 26.5MB/s eta 0:00:01\r\u001b[K     |███████████▎                    | 235kB 26.5MB/s eta 0:00:01\r\u001b[K     |███████████▊                    | 245kB 26.5MB/s eta 0:00:01\r\u001b[K     |████████████▎                   | 256kB 26.5MB/s eta 0:00:01\r\u001b[K     |████████████▊                   | 266kB 26.5MB/s eta 0:00:01\r\u001b[K     |█████████████▎                  | 276kB 26.5MB/s eta 0:00:01\r\u001b[K     |█████████████▊                  | 286kB 26.5MB/s eta 0:00:01\r\u001b[K     |██████████████▏                 | 296kB 26.5MB/s eta 0:00:01\r\u001b[K     |██████████████▊                 | 307kB 26.5MB/s eta 0:00:01\r\u001b[K     |███████████████▏                | 317kB 26.5MB/s eta 0:00:01\r\u001b[K     |███████████████▊                | 327kB 26.5MB/s eta 0:00:01\r\u001b[K     |████████████████▏               | 337kB 26.5MB/s eta 0:00:01\r\u001b[K     |████████████████▋               | 348kB 26.5MB/s eta 0:00:01\r\u001b[K     |█████████████████▏              | 358kB 26.5MB/s eta 0:00:01\r\u001b[K     |█████████████████▋              | 368kB 26.5MB/s eta 0:00:01\r\u001b[K     |██████████████████▏             | 378kB 26.5MB/s eta 0:00:01\r\u001b[K     |██████████████████▋             | 389kB 26.5MB/s eta 0:00:01\r\u001b[K     |███████████████████             | 399kB 26.5MB/s eta 0:00:01\r\u001b[K     |███████████████████▋            | 409kB 26.5MB/s eta 0:00:01\r\u001b[K     |████████████████████            | 419kB 26.5MB/s eta 0:00:01\r\u001b[K     |████████████████████▋           | 430kB 26.5MB/s eta 0:00:01\r\u001b[K     |█████████████████████           | 440kB 26.5MB/s eta 0:00:01\r\u001b[K     |█████████████████████▌          | 450kB 26.5MB/s eta 0:00:01\r\u001b[K     |██████████████████████          | 460kB 26.5MB/s eta 0:00:01\r\u001b[K     |██████████████████████▌         | 471kB 26.5MB/s eta 0:00:01\r\u001b[K     |███████████████████████         | 481kB 26.5MB/s eta 0:00:01\r\u001b[K     |███████████████████████▌        | 491kB 26.5MB/s eta 0:00:01\r\u001b[K     |████████████████████████        | 501kB 26.5MB/s eta 0:00:01\r\u001b[K     |████████████████████████▌       | 512kB 26.5MB/s eta 0:00:01\r\u001b[K     |█████████████████████████       | 522kB 26.5MB/s eta 0:00:01\r\u001b[K     |█████████████████████████▌      | 532kB 26.5MB/s eta 0:00:01\r\u001b[K     |██████████████████████████      | 542kB 26.5MB/s eta 0:00:01\r\u001b[K     |██████████████████████████▌     | 552kB 26.5MB/s eta 0:00:01\r\u001b[K     |███████████████████████████     | 563kB 26.5MB/s eta 0:00:01\r\u001b[K     |███████████████████████████▍    | 573kB 26.5MB/s eta 0:00:01\r\u001b[K     |████████████████████████████    | 583kB 26.5MB/s eta 0:00:01\r\u001b[K     |████████████████████████████▍   | 593kB 26.5MB/s eta 0:00:01\r\u001b[K     |█████████████████████████████   | 604kB 26.5MB/s eta 0:00:01\r\u001b[K     |█████████████████████████████▍  | 614kB 26.5MB/s eta 0:00:01\r\u001b[K     |█████████████████████████████▉  | 624kB 26.5MB/s eta 0:00:01\r\u001b[K     |██████████████████████████████▍ | 634kB 26.5MB/s eta 0:00:01\r\u001b[K     |██████████████████████████████▉ | 645kB 26.5MB/s eta 0:00:01\r\u001b[K     |███████████████████████████████▍| 655kB 26.5MB/s eta 0:00:01\r\u001b[K     |███████████████████████████████▉| 665kB 26.5MB/s eta 0:00:01\r\u001b[K     |████████████████████████████████| 675kB 26.5MB/s \n",
            "\u001b[?25hRequirement already satisfied: tqdm in /usr/local/lib/python3.7/dist-packages (from mesa) (4.41.1)\n",
            "Requirement already satisfied: numpy in /usr/local/lib/python3.7/dist-packages (from mesa) (1.19.5)\n",
            "Requirement already satisfied: pandas in /usr/local/lib/python3.7/dist-packages (from mesa) (1.1.5)\n",
            "Requirement already satisfied: networkx in /usr/local/lib/python3.7/dist-packages (from mesa) (2.5.1)\n",
            "Collecting cookiecutter\n",
            "  Downloading https://files.pythonhosted.org/packages/a2/62/d061b19f307455506e63825586e2e1816b71d56b4a5873c278cb315b9660/cookiecutter-1.7.3-py2.py3-none-any.whl\n",
            "Requirement already satisfied: tornado in /usr/local/lib/python3.7/dist-packages (from mesa) (5.1.1)\n",
            "Requirement already satisfied: click in /usr/local/lib/python3.7/dist-packages (from mesa) (7.1.2)\n",
            "Requirement already satisfied: pytz>=2017.2 in /usr/local/lib/python3.7/dist-packages (from pandas->mesa) (2018.9)\n",
            "Requirement already satisfied: python-dateutil>=2.7.3 in /usr/local/lib/python3.7/dist-packages (from pandas->mesa) (2.8.1)\n",
            "Requirement already satisfied: decorator<5,>=4.3 in /usr/local/lib/python3.7/dist-packages (from networkx->mesa) (4.4.2)\n",
            "Requirement already satisfied: Jinja2<4.0.0,>=2.7 in /usr/local/lib/python3.7/dist-packages (from cookiecutter->mesa) (2.11.3)\n",
            "Collecting jinja2-time>=0.2.0\n",
            "  Downloading https://files.pythonhosted.org/packages/6a/a1/d44fa38306ffa34a7e1af09632b158e13ec89670ce491f8a15af3ebcb4e4/jinja2_time-0.2.0-py2.py3-none-any.whl\n",
            "Requirement already satisfied: python-slugify>=4.0.0 in /usr/local/lib/python3.7/dist-packages (from cookiecutter->mesa) (5.0.2)\n",
            "Collecting binaryornot>=0.4.4\n",
            "  Downloading https://files.pythonhosted.org/packages/24/7e/f7b6f453e6481d1e233540262ccbfcf89adcd43606f44a028d7f5fae5eb2/binaryornot-0.4.4-py2.py3-none-any.whl\n",
            "Collecting poyo>=0.5.0\n",
            "  Downloading https://files.pythonhosted.org/packages/42/50/0b0820601bde2eda403f47b9a4a1f270098ed0dd4c00c443d883164bdccc/poyo-0.5.0-py2.py3-none-any.whl\n",
            "Requirement already satisfied: six>=1.10 in /usr/local/lib/python3.7/dist-packages (from cookiecutter->mesa) (1.15.0)\n",
            "Requirement already satisfied: requests>=2.23.0 in /usr/local/lib/python3.7/dist-packages (from cookiecutter->mesa) (2.23.0)\n",
            "Requirement already satisfied: MarkupSafe>=0.23 in /usr/local/lib/python3.7/dist-packages (from Jinja2<4.0.0,>=2.7->cookiecutter->mesa) (2.0.1)\n",
            "Collecting arrow\n",
            "\u001b[?25l  Downloading https://files.pythonhosted.org/packages/e8/59/4c21f8c501b43e2aabc82ad62e20f3730c273057c56f8731319980dec5ff/arrow-1.1.1-py3-none-any.whl (60kB)\n",
            "\u001b[K     |████████████████████████████████| 61kB 6.9MB/s \n",
            "\u001b[?25hRequirement already satisfied: text-unidecode>=1.3 in /usr/local/lib/python3.7/dist-packages (from python-slugify>=4.0.0->cookiecutter->mesa) (1.3)\n",
            "Requirement already satisfied: chardet>=3.0.2 in /usr/local/lib/python3.7/dist-packages (from binaryornot>=0.4.4->cookiecutter->mesa) (3.0.4)\n",
            "Requirement already satisfied: certifi>=2017.4.17 in /usr/local/lib/python3.7/dist-packages (from requests>=2.23.0->cookiecutter->mesa) (2021.5.30)\n",
            "Requirement already satisfied: urllib3!=1.25.0,!=1.25.1,<1.26,>=1.21.1 in /usr/local/lib/python3.7/dist-packages (from requests>=2.23.0->cookiecutter->mesa) (1.24.3)\n",
            "Requirement already satisfied: idna<3,>=2.5 in /usr/local/lib/python3.7/dist-packages (from requests>=2.23.0->cookiecutter->mesa) (2.10)\n",
            "Requirement already satisfied: typing-extensions; python_version < \"3.8\" in /usr/local/lib/python3.7/dist-packages (from arrow->jinja2-time>=0.2.0->cookiecutter->mesa) (3.7.4.3)\n",
            "Installing collected packages: arrow, jinja2-time, binaryornot, poyo, cookiecutter, mesa\n",
            "Successfully installed arrow-1.1.1 binaryornot-0.4.4 cookiecutter-1.7.3 jinja2-time-0.2.0 mesa-0.8.9 poyo-0.5.0\n"
          ],
          "name": "stdout"
        }
      ]
    },
    {
      "cell_type": "code",
      "metadata": {
        "ExecuteTime": {
          "end_time": "2021-07-08T20:37:13.207431Z",
          "start_time": "2021-07-08T20:37:13.189343Z"
        },
        "id": "noticed-territory"
      },
      "source": [
        "class JobAgent(Agent):\n",
        "    '''An agent representing the available jobs in the job markets'''\n",
        "    def __init__(self, unique_id, model):\n",
        "        super().__init__(unique_id, model)\n",
        "        # gamma distributed required aptitude, according to income distribution\n",
        "#         self.required_aptitude = np.random.normal()\n",
        "        self.required_aptitude = stats.gamma.rvs(1.8487969675727172, \n",
        "                                                  0.1623439493968334, \n",
        "                                                  7.802909747837213)\n",
        "        self.type = 'Job'\n",
        "        self.status = 'Unfilled'\n",
        "        self.daily_salary = self.required_aptitude * 10\n",
        "        self.worker_id = np.nan\n",
        "    \n",
        "#     def step(self):\n",
        "#         '''A job can also reach out to applicants'''\n",
        "#         applicant_found = self.random.choice(self.model.applicants_schedule.agents)\n",
        "#         if (self.status != 'Filled') & (applicant_found.status == 'Unemployed'):\n",
        "#             if (applicant_found.possessed_aptitude >= (self.required_aptitude + np.random.normal(0, 10))):\n",
        "#                 applicant_found.status = 'Employed'\n",
        "#                 self.status = 'Filled'\n",
        "# #             elif (np.random.normal() > 0.75):\n",
        "# #                     applicant_found.status = 'Employed'\n",
        "# #                     self.status = 'Filled'\n",
        "#         else:\n",
        "#             return\n",
        "    \n",
        "    def step(self):\n",
        "        '''The job can reach out to multiple applicants per day, and select the one with highest ability'''\n",
        "        if self.status != 'Filled':\n",
        "            many_applicants_found = self.random.choices(self.model.applicants_schedule.agents, k = 5)\n",
        "\n",
        "            available_applicants = [applicant for applicant in many_applicants_found if (applicant.status == 'Unemployed') &\\\n",
        "                                    (applicant.possessed_aptitude >= (self.required_aptitude + np.random.normal(0, 10)))]\n",
        "            \n",
        "            if (available_applicants is not None) & (len(available_applicants) > 0):\n",
        "                available_applicants.sort(reverse=True, key = lambda x: x.possessed_aptitude)\n",
        "                \n",
        "                best_applicant = available_applicants[0]\n",
        "                \n",
        "                best_applicant.status = 'Employed'\n",
        "                self.status = 'Filled'\n",
        "                \n",
        "                best_applicant.job_id = self.unique_id\n",
        "                self.worker_id = best_applicant.unique_id\n",
        "                \n",
        "                best_applicant.daily_income = self.daily_salary\n",
        "                \n",
        "#                 model.job_schedule.remove(self.unique_id)\n",
        "            else:\n",
        "                # best_applicant.daily_income = 0\n",
        "                return\n",
        "        else:\n",
        "            # best_applicant.daily_income = 0\n",
        "            return\n",
        "            "
      ],
      "id": "noticed-territory",
      "execution_count": 14,
      "outputs": []
    },
    {
      "cell_type": "code",
      "metadata": {
        "ExecuteTime": {
          "end_time": "2021-07-08T20:42:07.734973Z",
          "start_time": "2021-07-08T20:42:07.719108Z"
        },
        "id": "qualified-noise"
      },
      "source": [
        "class ApplicantAgent(Agent):\n",
        "    '''An agent representing the unemployed applicants to the job'''\n",
        "    def __init__(self, unique_id, model, savings = 0):\n",
        "        super().__init__(unique_id, model)\n",
        "        # normally distributed required aptitude\n",
        "#         self.possessed_aptitude = np.random.normal()\n",
        "    \n",
        "        self.possessed_aptitude = stats.gamma.rvs(1.8487969675727172, \n",
        "                                                  0.1623439493968334, \n",
        "                                                  7.802909747837213)\n",
        "        self.type = 'Applicant'\n",
        "        self.status = 'Unemployed'\n",
        "        self.savings = savings\n",
        "        self.daily_income = 0\n",
        "        self.daily_expense = self.possessed_aptitude * 10\n",
        "        self.job_id = np.nan\n",
        "    \n",
        "#     def step(self):\n",
        "#         job_found = self.random.choice(self.model.job_schedule.agents)\n",
        "        \n",
        "#         if (job_found.status != 'Filled') & (self.status == 'Unemployed'):\n",
        "#             if (self.possessed_aptitude >= job_found.required_aptitude+np.random.normal(0, 10)):\n",
        "#                 self.status = 'Employed'\n",
        "#                 job_found.status = 'Filled'\n",
        "#         else:\n",
        "#             return\n",
        "    \n",
        "    def step(self):\n",
        "        '''An applicant will go out to select multiple jobs and select the ones with highest skills required'''\n",
        "        self.savings += (self.daily_income - self.daily_expense)\n",
        "        # if (self.status != 'Employed'):\n",
        "        if (self.status != 'Employed') & (self.savings <= 0):\n",
        "            many_jobs_found = self.random.choices(self.model.job_schedule.agents, k = 5)\n",
        "\n",
        "            available_jobs = [job for job in many_jobs_found if (job.status == 'Unfilled') &\\\n",
        "                                    (self.possessed_aptitude >= (job.required_aptitude + np.random.normal(0, 10)))]\n",
        "\n",
        "            if (available_jobs is not None) & (len(available_jobs) > 0):\n",
        "                available_jobs.sort(reverse=True, key = lambda x: x.required_aptitude)\n",
        "                best_job = available_jobs[0]\n",
        "                \n",
        "                self.status = 'Employed'\n",
        "                best_job.status = 'Filled'\n",
        "                \n",
        "                self.job_id = best_job.unique_id\n",
        "                best_job.worker_id = self.unique_id\n",
        "                \n",
        "                self.daily_income = best_job.daily_salary\n",
        "                assert self.daily_income >= 0\n",
        "            else:\n",
        "                return\n",
        "        else:\n",
        "            # self.daily_income = 0\n",
        "            return\n",
        "            \n",
        "\n",
        "class JobMarketModel(Model):\n",
        "    '''A model with some number of jobs and applicants'''\n",
        "    def __init__(self, n_jobs, n_applicants, n_jobs_per_day, n_applicants_per_day, multi_mode = False, init_savings = 0):\n",
        "        '''\n",
        "        @n_jobs_per_day: the number of jobs an applicant will see per day;\n",
        "        @n_applicants_per_day: the number of applicants a job will see per day;\n",
        "        '''\n",
        "        self.n_jobs = n_jobs\n",
        "        self.n_applicants = n_applicants\n",
        "        self.job_schedule = RandomActivation(self)\n",
        "        self.applicants_schedule = RandomActivation(self)\n",
        "        self.unemployment_rate = 1\n",
        "        self.n_employed = 0\n",
        "        self.n_jobs_per_day = n_jobs_per_day\n",
        "        self.n_applicants_per_day = n_applicants_per_day\n",
        "        self.multi_mode = multi_mode\n",
        "        self.init_savings = init_savings\n",
        "        \n",
        "        # create jobs\n",
        "        for i in range(self.n_jobs):\n",
        "            job = JobAgent(i, self)\n",
        "            self.job_schedule.add(job)\n",
        "        # create applicants\n",
        "        for j in range(self.n_applicants):\n",
        "            applicant = ApplicantAgent(j, self, savings=self.init_savings)\n",
        "            self.applicants_schedule.add(applicant)\n",
        "    \n",
        "    def step(self):\n",
        "        '''Run the job market by one step'''\n",
        "        self.applicants_schedule.step()\n",
        "        self.job_schedule.step()"
      ],
      "id": "qualified-noise",
      "execution_count": 36,
      "outputs": []
    },
    {
      "cell_type": "code",
      "metadata": {
        "ExecuteTime": {
          "end_time": "2021-07-08T15:50:10.652448Z",
          "start_time": "2021-07-08T15:50:10.645592Z"
        },
        "id": "engaged-romania"
      },
      "source": [
        ""
      ],
      "id": "engaged-romania",
      "execution_count": 36,
      "outputs": []
    },
    {
      "cell_type": "code",
      "metadata": {
        "ExecuteTime": {
          "end_time": "2021-07-08T20:43:34.956944Z",
          "start_time": "2021-07-08T20:42:10.746678Z"
        },
        "colab": {
          "base_uri": "https://localhost:8080/"
        },
        "id": "elder-crazy",
        "outputId": "3937496e-d3ec-4fbe-f715-a2864178e79c"
      },
      "source": [
        "# print([job.status for job in model.job_schedule.agents])\n",
        "steps_needed_target = {}\n",
        "steps_taken = {}\n",
        "unemployment_rate_by_steps = {}\n",
        "n_employed_by_steps = {}\n",
        "\n",
        "factor = 0.000001\n",
        "n_jobs = int((9.3+151.612) * 1_000_000 * factor)\n",
        "n_applicants = int(161.086 * 1_000_000* factor)\n",
        "num_worker_employed_required = int(161_086 * 1_000 * (1-0.03)* factor)\n",
        "num_employed_now = int(151_602 * 1_000 * factor)\n",
        "num_needed = (num_worker_employed_required - num_employed_now)\n",
        "\n",
        "for savings in tqdm(np.linspace(1, 5000, 10)):\n",
        "    steps_needed_target[savings] = []\n",
        "    for trial in range(20):\n",
        "        steps_taken[trial] = []\n",
        "        unemployment_rate_by_steps[trial] = []\n",
        "        n_employed_by_steps[trial] = []\n",
        "        model = JobMarketModel(n_jobs = n_jobs, \n",
        "                                n_applicants = n_applicants,\n",
        "                              n_jobs_per_day = 5, \n",
        "                              n_applicants_per_day = 5,\n",
        "                              multi_mode=True, \n",
        "                              init_savings = savings)\n",
        "      #     print(sum([job.status == 'Unfilled' for job in model.job_schedule.agents]))\n",
        "      #     print([worker.status for worker in model.applicants_schedule.agents])\n",
        "        i = 0\n",
        "      #     print(f'employed needed: {num_needed}, available_jobs = {n_jobs}, current employed: {model.n_employed}')\n",
        "      #     while model.n_employed <= num_needed:\n",
        "        while model.unemployment_rate >= 0.05:\n",
        "            model.step()\n",
        "            model.unemployment_rate = sum([applicant.status != 'Employed' for applicant in model.applicants_schedule.agents]) / model.n_applicants\n",
        "            model.n_employed = sum([applicant.status == 'Employed' for applicant in model.applicants_schedule.agents])\n",
        "            i += 1\n",
        "            steps_taken[trial].append(i)\n",
        "            unemployment_rate_by_steps[trial].append(model.unemployment_rate)\n",
        "            n_employed_by_steps[trial].append(model.n_employed)\n",
        "        steps_needed_target[savings].append(i)\n",
        "#         print(i)\n",
        "#         print(f'employed needed: {num_needed}, available_jobs = {n_jobs}, current employed: {model.n_employed}')"
      ],
      "id": "elder-crazy",
      "execution_count": 50,
      "outputs": [
        {
          "output_type": "stream",
          "text": [
            "100%|██████████| 10/10 [12:26<00:00, 74.64s/it]\n"
          ],
          "name": "stderr"
        }
      ]
    },
    {
      "cell_type": "code",
      "metadata": {
        "id": "i_X9aO1kMoss"
      },
      "source": [
        "from google.colab import files "
      ],
      "id": "i_X9aO1kMoss",
      "execution_count": 55,
      "outputs": []
    },
    {
      "cell_type": "code",
      "metadata": {
        "colab": {
          "base_uri": "https://localhost:8080/",
          "height": 302
        },
        "id": "5Ekaf5WKEcCF",
        "outputId": "3037f6d4-3123-4add-f9e7-3c4a5f597b1b"
      },
      "source": [
        "\n",
        "\n",
        "savings_ls = [worker.savings for worker in model.applicants_schedule.agents]\n",
        "employment_ls = [worker.status for worker in model.applicants_schedule.agents]\n",
        "income_ls = [worker.daily_income for worker in model.applicants_schedule.agents]\n",
        "expense_ls = [worker.daily_expense for worker in model.applicants_schedule.agents]\n",
        "aptitude_ls = [worker.possessed_aptitude for worker in model.applicants_schedule.agents]\n",
        "salary_ls = [job.daily_salary for job in model.job_schedule.agents]\n",
        "df = pd.DataFrame({'saving': savings_ls, 'employment': employment_ls, \n",
        "                   'income': income_ls, \n",
        "                   'expense':expense_ls,\n",
        "                   'aptitude':aptitude_ls})\n",
        "df.to_csv(\"applicants_status.csv\")\n",
        "files.download(\"applicants_status.csv\")\n",
        "# sns.boxplot(x=salary_ls)\n",
        "sns.boxplot(data=df, x = 'employment', y = 'expense')"
      ],
      "id": "5Ekaf5WKEcCF",
      "execution_count": 66,
      "outputs": [
        {
          "output_type": "display_data",
          "data": {
            "application/javascript": [
              "\n",
              "    async function download(id, filename, size) {\n",
              "      if (!google.colab.kernel.accessAllowed) {\n",
              "        return;\n",
              "      }\n",
              "      const div = document.createElement('div');\n",
              "      const label = document.createElement('label');\n",
              "      label.textContent = `Downloading \"${filename}\": `;\n",
              "      div.appendChild(label);\n",
              "      const progress = document.createElement('progress');\n",
              "      progress.max = size;\n",
              "      div.appendChild(progress);\n",
              "      document.body.appendChild(div);\n",
              "\n",
              "      const buffers = [];\n",
              "      let downloaded = 0;\n",
              "\n",
              "      const channel = await google.colab.kernel.comms.open(id);\n",
              "      // Send a message to notify the kernel that we're ready.\n",
              "      channel.send({})\n",
              "\n",
              "      for await (const message of channel.messages) {\n",
              "        // Send a message to notify the kernel that we're ready.\n",
              "        channel.send({})\n",
              "        if (message.buffers) {\n",
              "          for (const buffer of message.buffers) {\n",
              "            buffers.push(buffer);\n",
              "            downloaded += buffer.byteLength;\n",
              "            progress.value = downloaded;\n",
              "          }\n",
              "        }\n",
              "      }\n",
              "      const blob = new Blob(buffers, {type: 'application/binary'});\n",
              "      const a = document.createElement('a');\n",
              "      a.href = window.URL.createObjectURL(blob);\n",
              "      a.download = filename;\n",
              "      div.appendChild(a);\n",
              "      a.click();\n",
              "      div.remove();\n",
              "    }\n",
              "  "
            ],
            "text/plain": [
              "<IPython.core.display.Javascript object>"
            ]
          },
          "metadata": {
            "tags": []
          }
        },
        {
          "output_type": "display_data",
          "data": {
            "application/javascript": [
              "download(\"download_a18074d8-04d8-4555-867b-2edbc15f9d2d\", \"applicants_status.csv\", 13894)"
            ],
            "text/plain": [
              "<IPython.core.display.Javascript object>"
            ]
          },
          "metadata": {
            "tags": []
          }
        },
        {
          "output_type": "execute_result",
          "data": {
            "text/plain": [
              "<matplotlib.axes._subplots.AxesSubplot at 0x7f0e2aa1ccd0>"
            ]
          },
          "metadata": {
            "tags": []
          },
          "execution_count": 66
        },
        {
          "output_type": "display_data",
          "data": {
            "image/png": "[encoded data removed]",
            "text/plain": [
              "<Figure size 432x288 with 1 Axes>"
            ]
          },
          "metadata": {
            "tags": []
          }
        }
      ]
    },
    {
      "cell_type": "code",
      "metadata": {
        "colab": {
          "base_uri": "https://localhost:8080/",
          "height": 284
        },
        "id": "L3hgk_NjPt7j",
        "outputId": "a118da06-1eb9-46ec-a3e0-d81595c6dce9"
      },
      "source": [
        "df_bad_luck = df[(df['saving']  < 0) & (df['employment'] == 'Employed')]\n",
        "plt.plot(df_bad_luck['income'], label = 'income')\n",
        "plt.plot(df_bad_luck['expense'], label = 'expense')\n",
        "plt.legend()\n",
        "plt.title(\"Daily Expense and Income for People with Negative Savings\")\n",
        "plt.savefig(\"Daily Expense and Income for People with Negative Savings\", dpi = 1000)\n",
        "files.download(\"Daily Expense and Income for People with Negative Savings.png\")"
      ],
      "id": "L3hgk_NjPt7j",
      "execution_count": 74,
      "outputs": [
        {
          "output_type": "display_data",
          "data": {
            "application/javascript": [
              "\n",
              "    async function download(id, filename, size) {\n",
              "      if (!google.colab.kernel.accessAllowed) {\n",
              "        return;\n",
              "      }\n",
              "      const div = document.createElement('div');\n",
              "      const label = document.createElement('label');\n",
              "      label.textContent = `Downloading \"${filename}\": `;\n",
              "      div.appendChild(label);\n",
              "      const progress = document.createElement('progress');\n",
              "      progress.max = size;\n",
              "      div.appendChild(progress);\n",
              "      document.body.appendChild(div);\n",
              "\n",
              "      const buffers = [];\n",
              "      let downloaded = 0;\n",
              "\n",
              "      const channel = await google.colab.kernel.comms.open(id);\n",
              "      // Send a message to notify the kernel that we're ready.\n",
              "      channel.send({})\n",
              "\n",
              "      for await (const message of channel.messages) {\n",
              "        // Send a message to notify the kernel that we're ready.\n",
              "        channel.send({})\n",
              "        if (message.buffers) {\n",
              "          for (const buffer of message.buffers) {\n",
              "            buffers.push(buffer);\n",
              "            downloaded += buffer.byteLength;\n",
              "            progress.value = downloaded;\n",
              "          }\n",
              "        }\n",
              "      }\n",
              "      const blob = new Blob(buffers, {type: 'application/binary'});\n",
              "      const a = document.createElement('a');\n",
              "      a.href = window.URL.createObjectURL(blob);\n",
              "      a.download = filename;\n",
              "      div.appendChild(a);\n",
              "      a.click();\n",
              "      div.remove();\n",
              "    }\n",
              "  "
            ],
            "text/plain": [
              "<IPython.core.display.Javascript object>"
            ]
          },
          "metadata": {
            "tags": []
          }
        },
        {
          "output_type": "display_data",
          "data": {
            "application/javascript": [
              "download(\"download_67d8e067-8306-41a9-8668-2931795541a1\", \"Daily Expense and Income for People with Negative Savings.png\", 957776)"
            ],
            "text/plain": [
              "<IPython.core.display.Javascript object>"
            ]
          },
          "metadata": {
            "tags": []
          }
        },
        {
          "output_type": "display_data",
          "data": {
            "image/png": "[encoded data removed]",
            "text/plain": [
              "<Figure size 432x288 with 1 Axes>"
            ]
          },
          "metadata": {
            "tags": []
          }
        }
      ]
    },
    {
      "cell_type": "code",
      "metadata": {
        "colab": {
          "base_uri": "https://localhost:8080/",
          "height": 302
        },
        "id": "-wzLplZlHdk1",
        "outputId": "3601f287-0fba-4c35-89fc-22bba3a7bb85"
      },
      "source": [
        "sns.boxplot(data=df, x = 'employment', y = 'income')"
      ],
      "id": "-wzLplZlHdk1",
      "execution_count": 52,
      "outputs": [
        {
          "output_type": "execute_result",
          "data": {
            "text/plain": [
              "<matplotlib.axes._subplots.AxesSubplot at 0x7f0e2aa12e50>"
            ]
          },
          "metadata": {
            "tags": []
          },
          "execution_count": 52
        },
        {
          "output_type": "display_data",
          "data": {
            "image/png": "[encoded data removed]",
            "text/plain": [
              "<Figure size 432x288 with 1 Axes>"
            ]
          },
          "metadata": {
            "tags": []
          }
        }
      ]
    },
    {
      "cell_type": "code",
      "metadata": {
        "colab": {
          "base_uri": "https://localhost:8080/",
          "height": 301
        },
        "id": "FLokBT06Hhe0",
        "outputId": "a6a49eb6-77fe-4c54-85e2-e0705dc697e7"
      },
      "source": [
        "sns.boxplot(data=df, x = 'employment', y = 'saving')\n",
        "plt.title(\"Saving by Employment\")\n",
        "plt.savefig(\"Saving by Employment\", dpi = 1000)\n",
        "files.download(\"Saving by Employment.png\")"
      ],
      "id": "FLokBT06Hhe0",
      "execution_count": 59,
      "outputs": [
        {
          "output_type": "display_data",
          "data": {
            "application/javascript": [
              "\n",
              "    async function download(id, filename, size) {\n",
              "      if (!google.colab.kernel.accessAllowed) {\n",
              "        return;\n",
              "      }\n",
              "      const div = document.createElement('div');\n",
              "      const label = document.createElement('label');\n",
              "      label.textContent = `Downloading \"${filename}\": `;\n",
              "      div.appendChild(label);\n",
              "      const progress = document.createElement('progress');\n",
              "      progress.max = size;\n",
              "      div.appendChild(progress);\n",
              "      document.body.appendChild(div);\n",
              "\n",
              "      const buffers = [];\n",
              "      let downloaded = 0;\n",
              "\n",
              "      const channel = await google.colab.kernel.comms.open(id);\n",
              "      // Send a message to notify the kernel that we're ready.\n",
              "      channel.send({})\n",
              "\n",
              "      for await (const message of channel.messages) {\n",
              "        // Send a message to notify the kernel that we're ready.\n",
              "        channel.send({})\n",
              "        if (message.buffers) {\n",
              "          for (const buffer of message.buffers) {\n",
              "            buffers.push(buffer);\n",
              "            downloaded += buffer.byteLength;\n",
              "            progress.value = downloaded;\n",
              "          }\n",
              "        }\n",
              "      }\n",
              "      const blob = new Blob(buffers, {type: 'application/binary'});\n",
              "      const a = document.createElement('a');\n",
              "      a.href = window.URL.createObjectURL(blob);\n",
              "      a.download = filename;\n",
              "      div.appendChild(a);\n",
              "      a.click();\n",
              "      div.remove();\n",
              "    }\n",
              "  "
            ],
            "text/plain": [
              "<IPython.core.display.Javascript object>"
            ]
          },
          "metadata": {
            "tags": []
          }
        },
        {
          "output_type": "display_data",
          "data": {
            "application/javascript": [
              "download(\"download_8350f4ea-e20e-4b88-af0c-89956453f9de\", \"Saving by Employment.png\", 340361)"
            ],
            "text/plain": [
              "<IPython.core.display.Javascript object>"
            ]
          },
          "metadata": {
            "tags": []
          }
        },
        {
          "output_type": "display_data",
          "data": {
            "image/png": "[encoded data removed]",
            "text/plain": [
              "<Figure size 432x288 with 1 Axes>"
            ]
          },
          "metadata": {
            "tags": []
          }
        }
      ]
    },
    {
      "cell_type": "code",
      "metadata": {
        "ExecuteTime": {
          "end_time": "2021-07-08T20:43:53.541928Z",
          "start_time": "2021-07-08T20:43:52.981409Z"
        },
        "id": "nxvK-bfCHTJx",
        "colab": {
          "base_uri": "https://localhost:8080/",
          "height": 469
        },
        "outputId": "37ee6d59-76cd-4532-dec2-7dca7fa079db"
      },
      "source": [
        "steps_df = pd.DataFrame(steps_needed_target)\n",
        "steps_df_reshaped = steps_df.melt(value_vars=steps_df.columns, \n",
        "                                  var_name='Initial Savings', value_name='Steps Needed')\n",
        "S = steps_df_reshaped['Steps Needed']\n",
        "steps_df_reshaped_outlier = steps_df_reshaped.loc[~((S-S.mean()).abs() > 3*S.std())]\n",
        "steps_df_reshaped_outlier.to_csv(\"steps_df_reshaped_outlier.csv\")\n",
        "files.download(\"steps_df_reshaped_outlier.csv\")\n",
        "print(steps_df_reshaped.shape)\n",
        "print(steps_df_reshaped_outlier.shape)\n",
        "print(stats.linregress(x = steps_df_reshaped_outlier['Initial Savings'], \n",
        "                 y = steps_df_reshaped_outlier['Steps Needed']))\n",
        "fg = sns.lmplot(data = steps_df_reshaped_outlier, x = 'Initial Savings', y = 'Steps Needed')\n",
        "plt.title(\"Initial Savings vs Steps Needed for Employment Target\")\n",
        "fg.savefig(\"Initial Savings vs Steps Needed for Employment Target.png\", dpi=1000)\n",
        "files.download(\"Initial Savings vs Steps Needed for Employment Target.png\")"
      ],
      "id": "nxvK-bfCHTJx",
      "execution_count": 60,
      "outputs": [
        {
          "output_type": "display_data",
          "data": {
            "application/javascript": [
              "\n",
              "    async function download(id, filename, size) {\n",
              "      if (!google.colab.kernel.accessAllowed) {\n",
              "        return;\n",
              "      }\n",
              "      const div = document.createElement('div');\n",
              "      const label = document.createElement('label');\n",
              "      label.textContent = `Downloading \"${filename}\": `;\n",
              "      div.appendChild(label);\n",
              "      const progress = document.createElement('progress');\n",
              "      progress.max = size;\n",
              "      div.appendChild(progress);\n",
              "      document.body.appendChild(div);\n",
              "\n",
              "      const buffers = [];\n",
              "      let downloaded = 0;\n",
              "\n",
              "      const channel = await google.colab.kernel.comms.open(id);\n",
              "      // Send a message to notify the kernel that we're ready.\n",
              "      channel.send({})\n",
              "\n",
              "      for await (const message of channel.messages) {\n",
              "        // Send a message to notify the kernel that we're ready.\n",
              "        channel.send({})\n",
              "        if (message.buffers) {\n",
              "          for (const buffer of message.buffers) {\n",
              "            buffers.push(buffer);\n",
              "            downloaded += buffer.byteLength;\n",
              "            progress.value = downloaded;\n",
              "          }\n",
              "        }\n",
              "      }\n",
              "      const blob = new Blob(buffers, {type: 'application/binary'});\n",
              "      const a = document.createElement('a');\n",
              "      a.href = window.URL.createObjectURL(blob);\n",
              "      a.download = filename;\n",
              "      div.appendChild(a);\n",
              "      a.click();\n",
              "      div.remove();\n",
              "    }\n",
              "  "
            ],
            "text/plain": [
              "<IPython.core.display.Javascript object>"
            ]
          },
          "metadata": {
            "tags": []
          }
        },
        {
          "output_type": "display_data",
          "data": {
            "application/javascript": [
              "download(\"download_5c45d694-6667-486f-8b4e-b7b511ffd7c5\", \"steps_df_reshaped_outlier.csv\", 4670)"
            ],
            "text/plain": [
              "<IPython.core.display.Javascript object>"
            ]
          },
          "metadata": {
            "tags": []
          }
        },
        {
          "output_type": "stream",
          "text": [
            "(200, 2)\n",
            "(197, 2)\n",
            "LinregressResult(slope=0.017015562433827028, intercept=1920.8918267347403, rvalue=0.010475954406271215, pvalue=0.8838382437412395, stderr=0.11630853120966525)\n"
          ],
          "name": "stdout"
        },
        {
          "output_type": "display_data",
          "data": {
            "application/javascript": [
              "\n",
              "    async function download(id, filename, size) {\n",
              "      if (!google.colab.kernel.accessAllowed) {\n",
              "        return;\n",
              "      }\n",
              "      const div = document.createElement('div');\n",
              "      const label = document.createElement('label');\n",
              "      label.textContent = `Downloading \"${filename}\": `;\n",
              "      div.appendChild(label);\n",
              "      const progress = document.createElement('progress');\n",
              "      progress.max = size;\n",
              "      div.appendChild(progress);\n",
              "      document.body.appendChild(div);\n",
              "\n",
              "      const buffers = [];\n",
              "      let downloaded = 0;\n",
              "\n",
              "      const channel = await google.colab.kernel.comms.open(id);\n",
              "      // Send a message to notify the kernel that we're ready.\n",
              "      channel.send({})\n",
              "\n",
              "      for await (const message of channel.messages) {\n",
              "        // Send a message to notify the kernel that we're ready.\n",
              "        channel.send({})\n",
              "        if (message.buffers) {\n",
              "          for (const buffer of message.buffers) {\n",
              "            buffers.push(buffer);\n",
              "            downloaded += buffer.byteLength;\n",
              "            progress.value = downloaded;\n",
              "          }\n",
              "        }\n",
              "      }\n",
              "      const blob = new Blob(buffers, {type: 'application/binary'});\n",
              "      const a = document.createElement('a');\n",
              "      a.href = window.URL.createObjectURL(blob);\n",
              "      a.download = filename;\n",
              "      div.appendChild(a);\n",
              "      a.click();\n",
              "      div.remove();\n",
              "    }\n",
              "  "
            ],
            "text/plain": [
              "<IPython.core.display.Javascript object>"
            ]
          },
          "metadata": {
            "tags": []
          }
        },
        {
          "output_type": "display_data",
          "data": {
            "application/javascript": [
              "download(\"download_5a7f0de1-b675-4f87-954d-60e2aec85511\", \"Initial Savings vs Steps Needed for Employment Target.png\", 887899)"
            ],
            "text/plain": [
              "<IPython.core.display.Javascript object>"
            ]
          },
          "metadata": {
            "tags": []
          }
        },
        {
          "output_type": "display_data",
          "data": {
            "image/png": "[encoded data removed]",
            "text/plain": [
              "<Figure size 360x360 with 1 Axes>"
            ]
          },
          "metadata": {
            "tags": []
          }
        }
      ]
    },
    {
      "cell_type": "code",
      "metadata": {
        "ExecuteTime": {
          "end_time": "2021-07-08T15:51:13.172517Z",
          "start_time": "2021-07-08T15:51:13.166089Z"
        },
        "id": "meaning-deviation"
      },
      "source": [
        "# analyze the aptitude of employed and unemployed worker\n",
        "admitted_apt = []\n",
        "unemployed_apt = []\n",
        "filled_job = []\n",
        "unfilled_job = []\n",
        "\n",
        "for applicant in model.applicants_schedule.agents:\n",
        "    if applicant.status == 'Employed':\n",
        "        admitted_apt.append(applicant.possessed_aptitude)\n",
        "    else:\n",
        "        unemployed_apt.append(applicant.possessed_aptitude)\n",
        "for job in model.job_schedule.agents:\n",
        "    if job.status == 'Unfilled':\n",
        "        unfilled_job.append(job.required_aptitude)\n",
        "    else:\n",
        "        filled_job.append(job.required_aptitude)                    "
      ],
      "id": "meaning-deviation",
      "execution_count": null,
      "outputs": []
    },
    {
      "cell_type": "code",
      "metadata": {
        "id": "HuYIVYEG2bkE"
      },
      "source": [
        ""
      ],
      "id": "HuYIVYEG2bkE",
      "execution_count": null,
      "outputs": []
    },
    {
      "cell_type": "code",
      "metadata": {
        "ExecuteTime": {
          "end_time": "2021-07-08T15:56:54.766692Z",
          "start_time": "2021-07-08T15:56:54.326689Z"
        },
        "colab": {
          "base_uri": "https://localhost:8080/",
          "height": 301
        },
        "id": "affected-concert",
        "outputId": "ebffae46-0274-4441-d6f3-1db5af1a4a59"
      },
      "source": [
        "# analyze the difference between worker's aptitude and required aptitude\n",
        "excess_aptitude = []\n",
        "\n",
        "for applicant in model.applicants_schedule.agents:\n",
        "#     print(f\"{applicant.job_id}, {applicant.status}\")\n",
        "    if applicant.status == 'Employed':\n",
        "        current_job = model.job_schedule.agents[applicant.job_id]\n",
        "        excess_aptitude.append(applicant.possessed_aptitude - current_job.required_aptitude)\n",
        "sns.histplot(excess_aptitude)\n",
        "plt.xlabel('Possessed Skills - Required Skills')\n",
        "plt.title(\"Distribution of Excess Skills\")\n",
        "plt.savefig(\"Distribution of Excess Skills, 0 savings\", dpi=1200)\n",
        "files.download(\"Distribution of Excess Skills, 0 savings.png\")\n",
        "# for job in model.job_schedule.agents:\n",
        "#     print(job.unique_id)"
      ],
      "id": "affected-concert",
      "execution_count": 61,
      "outputs": [
        {
          "output_type": "display_data",
          "data": {
            "application/javascript": [
              "\n",
              "    async function download(id, filename, size) {\n",
              "      if (!google.colab.kernel.accessAllowed) {\n",
              "        return;\n",
              "      }\n",
              "      const div = document.createElement('div');\n",
              "      const label = document.createElement('label');\n",
              "      label.textContent = `Downloading \"${filename}\": `;\n",
              "      div.appendChild(label);\n",
              "      const progress = document.createElement('progress');\n",
              "      progress.max = size;\n",
              "      div.appendChild(progress);\n",
              "      document.body.appendChild(div);\n",
              "\n",
              "      const buffers = [];\n",
              "      let downloaded = 0;\n",
              "\n",
              "      const channel = await google.colab.kernel.comms.open(id);\n",
              "      // Send a message to notify the kernel that we're ready.\n",
              "      channel.send({})\n",
              "\n",
              "      for await (const message of channel.messages) {\n",
              "        // Send a message to notify the kernel that we're ready.\n",
              "        channel.send({})\n",
              "        if (message.buffers) {\n",
              "          for (const buffer of message.buffers) {\n",
              "            buffers.push(buffer);\n",
              "            downloaded += buffer.byteLength;\n",
              "            progress.value = downloaded;\n",
              "          }\n",
              "        }\n",
              "      }\n",
              "      const blob = new Blob(buffers, {type: 'application/binary'});\n",
              "      const a = document.createElement('a');\n",
              "      a.href = window.URL.createObjectURL(blob);\n",
              "      a.download = filename;\n",
              "      div.appendChild(a);\n",
              "      a.click();\n",
              "      div.remove();\n",
              "    }\n",
              "  "
            ],
            "text/plain": [
              "<IPython.core.display.Javascript object>"
            ]
          },
          "metadata": {
            "tags": []
          }
        },
        {
          "output_type": "display_data",
          "data": {
            "application/javascript": [
              "download(\"download_cf81ee12-25f4-4159-b827-05a9174fee05\", \"Distribution of Excess Skills, 0 savings.png\", 381714)"
            ],
            "text/plain": [
              "<IPython.core.display.Javascript object>"
            ]
          },
          "metadata": {
            "tags": []
          }
        },
        {
          "output_type": "display_data",
          "data": {
            "image/png": "[encoded data removed]",
            "text/plain": [
              "<Figure size 432x288 with 1 Axes>"
            ]
          },
          "metadata": {
            "tags": []
          }
        }
      ]
    },
    {
      "cell_type": "code",
      "metadata": {
        "ExecuteTime": {
          "end_time": "2021-07-08T15:56:57.329153Z",
          "start_time": "2021-07-08T15:56:57.004454Z"
        },
        "colab": {
          "base_uri": "https://localhost:8080/",
          "height": 335
        },
        "id": "cognitive-maple",
        "outputId": "9ca42ee6-e6b7-4723-fa4c-392d303a6e96"
      },
      "source": [
        "for i in range(20):\n",
        "    plt.plot(steps_taken[i], unemployment_rate_by_steps[i])\n",
        "# plt.plot(steps_taken[0], unemployment_rate_by_steps[0], label = f'{n_jobs} jobs available, {n_applicants} unemployed')\n",
        "plt.xlabel('Steps taken')\n",
        "plt.ylabel('Unemployment rate')\n",
        "plt.legend()\n",
        "plt.title('Unemployment rate vs Steps taken')\n",
        "# plt.savefig('Unemployment rate vs Steps taken, 0 savings', dpi = 1200)\n",
        "# files.download(\"Unemployment rate vs Steps taken, 0 savings.png\")"
      ],
      "id": "cognitive-maple",
      "execution_count": 62,
      "outputs": [
        {
          "output_type": "stream",
          "text": [
            "No handles with labels found to put in legend.\n"
          ],
          "name": "stderr"
        },
        {
          "output_type": "execute_result",
          "data": {
            "text/plain": [
              "Text(0.5, 1.0, 'Unemployment rate vs Steps taken')"
            ]
          },
          "metadata": {
            "tags": []
          },
          "execution_count": 62
        },
        {
          "output_type": "display_data",
          "data": {
            "image/png": "[encoded data removed]",
            "text/plain": [
              "<Figure size 432x288 with 1 Axes>"
            ]
          },
          "metadata": {
            "tags": []
          }
        }
      ]
    },
    {
      "cell_type": "code",
      "metadata": {
        "ExecuteTime": {
          "end_time": "2021-07-08T15:51:34.005221Z",
          "start_time": "2021-07-08T15:51:34.000081Z"
        },
        "colab": {
          "base_uri": "https://localhost:8080/"
        },
        "id": "buried-democrat",
        "outputId": "f0525024-e151-4bcd-eb2a-383179e48cba"
      },
      "source": [
        "print(f\"Average steps to reach 5% unemployment rate = {np.median(steps_needed_target)}\")"
      ],
      "id": "buried-democrat",
      "execution_count": null,
      "outputs": [
        {
          "output_type": "stream",
          "text": [
            "Average steps to reach 5% unemployment rate = 275.5\n"
          ],
          "name": "stdout"
        }
      ]
    },
    {
      "cell_type": "code",
      "metadata": {
        "ExecuteTime": {
          "end_time": "2021-07-08T15:49:41.421828Z",
          "start_time": "2021-07-08T15:49:41.119263Z"
        },
        "colab": {
          "base_uri": "https://localhost:8080/",
          "height": 302
        },
        "id": "nutritional-atlanta",
        "outputId": "a8e6a2ee-526e-429b-a7c8-ad532f5f80f4"
      },
      "source": [
        "sns.boxplot(x=sorted(steps_needed_target)[:-1])\n",
        "plt.legend()\n",
        "plt.xlabel('Steps taken to reach 5% unemployment rate')\n",
        "# plt.savefig('Steps taken to reach 5% unemployment rate, 0 savings', dpi=1200)\n",
        "# files.download(\"Steps taken to reach 5% unemployment rate, 0 savings.png\")"
      ],
      "id": "nutritional-atlanta",
      "execution_count": 63,
      "outputs": [
        {
          "output_type": "stream",
          "text": [
            "No handles with labels found to put in legend.\n"
          ],
          "name": "stderr"
        },
        {
          "output_type": "display_data",
          "data": {
            "image/png": "[encoded data removed]",
            "text/plain": [
              "<Figure size 432x288 with 1 Axes>"
            ]
          },
          "metadata": {
            "tags": []
          }
        }
      ]
    },
    {
      "cell_type": "code",
      "metadata": {
        "ExecuteTime": {
          "end_time": "2021-07-06T23:37:00.487618Z",
          "start_time": "2021-07-06T23:37:00.286210Z"
        },
        "id": "muslim-russell",
        "outputId": "95094c7c-ab68-47e7-baf7-8264781aa169"
      },
      "source": [
        "agent_status = [a.status for a in model.applicants_schedule.agents]\n",
        "plt.hist(agent_status)"
      ],
      "id": "muslim-russell",
      "execution_count": null,
      "outputs": [
        {
          "output_type": "execute_result",
          "data": {
            "text/plain": [
              "(array([1961.,    0.,    0.,    0.,    0.,    0.,    0.,    0.,    0.,\n",
              "          39.]),\n",
              " array([0. , 0.1, 0.2, 0.3, 0.4, 0.5, 0.6, 0.7, 0.8, 0.9, 1. ]),\n",
              " <BarContainer object of 10 artists>)"
            ]
          },
          "metadata": {
            "tags": []
          },
          "execution_count": 91
        },
        {
          "output_type": "display_data",
          "data": {
            "image/png": "[encoded data removed]",
            "text/plain": [
              "<Figure size 432x288 with 1 Axes>"
            ]
          },
          "metadata": {
            "tags": [],
            "needs_background": "light"
          }
        }
      ]
    },
    {
      "cell_type": "code",
      "metadata": {
        "ExecuteTime": {
          "end_time": "2021-07-06T23:37:12.038419Z",
          "start_time": "2021-07-06T23:37:11.846697Z"
        },
        "id": "least-chair",
        "outputId": "b8ee521a-8267-48a4-998a-86a8cf6a2e73"
      },
      "source": [
        "agent_status = [a.status for a in model.job_schedule.agents]\n",
        "plt.hist(agent_status)"
      ],
      "id": "least-chair",
      "execution_count": null,
      "outputs": [
        {
          "output_type": "execute_result",
          "data": {
            "text/plain": [
              "(array([496.,   0.,   0.,   0.,   0.,   0.,   0.,   0.,   0.,   4.]),\n",
              " array([0. , 0.1, 0.2, 0.3, 0.4, 0.5, 0.6, 0.7, 0.8, 0.9, 1. ]),\n",
              " <BarContainer object of 10 artists>)"
            ]
          },
          "metadata": {
            "tags": []
          },
          "execution_count": 92
        },
        {
          "output_type": "display_data",
          "data": {
            "image/png": "[encoded data removed]",
            "text/plain": [
              "<Figure size 432x288 with 1 Axes>"
            ]
          },
          "metadata": {
            "tags": [],
            "needs_background": "light"
          }
        }
      ]
    },
    {
      "cell_type": "code",
      "metadata": {
        "id": "prospective-married"
      },
      "source": [
        ""
      ],
      "id": "prospective-married",
      "execution_count": null,
      "outputs": []
    },
    {
      "cell_type": "code",
      "metadata": {
        "ExecuteTime": {
          "end_time": "2021-07-07T18:31:26.259555Z",
          "start_time": "2021-07-07T18:31:26.239067Z"
        },
        "id": "suffering-mobility",
        "outputId": "a72909da-5641-4c78-d65a-c39e132ade9a"
      },
      "source": [
        "# get the household income distribution\n",
        "# as a proxy of distributions of skills possessed and required\n",
        "household_income_distribution = pd.read_csv(\"us-household-income-distribution.csv\")\n",
        "household_income_distribution.head(5)"
      ],
      "id": "suffering-mobility",
      "execution_count": null,
      "outputs": [
        {
          "output_type": "execute_result",
          "data": {
            "text/html": [
              "<div>\n",
              "<style scoped>\n",
              "    .dataframe tbody tr th:only-of-type {\n",
              "        vertical-align: middle;\n",
              "    }\n",
              "\n",
              "    .dataframe tbody tr th {\n",
              "        vertical-align: top;\n",
              "    }\n",
              "\n",
              "    .dataframe thead th {\n",
              "        text-align: right;\n",
              "    }\n",
              "</style>\n",
              "<table border=\"1\" class=\"dataframe\">\n",
              "  <thead>\n",
              "    <tr style=\"text-align: right;\">\n",
              "      <th></th>\n",
              "      <th>IncomeBracket</th>\n",
              "      <th>Household Counts</th>\n",
              "      <th>Income</th>\n",
              "      <th>IncomeMax</th>\n",
              "    </tr>\n",
              "  </thead>\n",
              "  <tbody>\n",
              "    <tr>\n",
              "      <th>0</th>\n",
              "      <td>1</td>\n",
              "      <td>3784.0</td>\n",
              "      <td>Under $5,000</td>\n",
              "      <td>5000</td>\n",
              "    </tr>\n",
              "    <tr>\n",
              "      <th>1</th>\n",
              "      <td>2</td>\n",
              "      <td>2702.0</td>\n",
              "      <td>$5,000 to $9,999</td>\n",
              "      <td>10000</td>\n",
              "    </tr>\n",
              "    <tr>\n",
              "      <th>2</th>\n",
              "      <td>3</td>\n",
              "      <td>5141.0</td>\n",
              "      <td>$10,000 to $14,999</td>\n",
              "      <td>15000</td>\n",
              "    </tr>\n",
              "    <tr>\n",
              "      <th>3</th>\n",
              "      <td>4</td>\n",
              "      <td>5171.0</td>\n",
              "      <td>$15,000 to $19,999</td>\n",
              "      <td>20000</td>\n",
              "    </tr>\n",
              "    <tr>\n",
              "      <th>4</th>\n",
              "      <td>5</td>\n",
              "      <td>5066.0</td>\n",
              "      <td>$20,000 to $24,999</td>\n",
              "      <td>25000</td>\n",
              "    </tr>\n",
              "  </tbody>\n",
              "</table>\n",
              "</div>"
            ],
            "text/plain": [
              "   IncomeBracket  Household Counts              Income  IncomeMax\n",
              "0              1            3784.0        Under $5,000       5000\n",
              "1              2            2702.0    $5,000 to $9,999      10000\n",
              "2              3            5141.0  $10,000 to $14,999      15000\n",
              "3              4            5171.0  $15,000 to $19,999      20000\n",
              "4              5            5066.0  $20,000 to $24,999      25000"
            ]
          },
          "metadata": {
            "tags": []
          },
          "execution_count": 332
        }
      ]
    },
    {
      "cell_type": "code",
      "metadata": {
        "ExecuteTime": {
          "end_time": "2021-07-07T02:12:09.155370Z",
          "start_time": "2021-07-07T02:12:09.150191Z"
        },
        "id": "wrapped-narrative"
      },
      "source": [
        "y = np.array(household_income_distribution.HouseholdCounts)[0:-3]\n",
        "x = np.array(household_income_distribution.IncomeBracket)[0:-3]\n",
        "data = np.array(list(zip(x,y)))"
      ],
      "id": "wrapped-narrative",
      "execution_count": null,
      "outputs": []
    },
    {
      "cell_type": "code",
      "metadata": {
        "ExecuteTime": {
          "end_time": "2021-07-07T02:12:24.154550Z",
          "start_time": "2021-07-07T02:12:24.148689Z"
        },
        "id": "boring-discussion"
      },
      "source": [
        "expanded = np.repeat(data[:,0], data[:,1].astype(int))"
      ],
      "id": "boring-discussion",
      "execution_count": null,
      "outputs": []
    },
    {
      "cell_type": "code",
      "metadata": {
        "ExecuteTime": {
          "end_time": "2021-07-07T02:14:32.599154Z",
          "start_time": "2021-07-07T02:14:32.005613Z"
        },
        "id": "professional-disposition",
        "outputId": "6e0a6eda-9054-4a81-af1d-534a136a3ce6"
      },
      "source": [
        "param = stats.gamma.fit(expanded)\n",
        "print(param)"
      ],
      "id": "professional-disposition",
      "execution_count": null,
      "outputs": [
        {
          "output_type": "stream",
          "text": [
            "(1.8487969675727172, 0.1623439493968334, 7.802909747837213)\n"
          ],
          "name": "stdout"
        }
      ]
    },
    {
      "cell_type": "code",
      "metadata": {
        "ExecuteTime": {
          "end_time": "2021-07-07T02:14:50.646790Z",
          "start_time": "2021-07-07T02:14:50.640478Z"
        },
        "id": "demanding-utilization"
      },
      "source": [
        "xx = np.arange(41)\n",
        "pdf_fitted = stats.gamma.pdf(xx,*param)\n",
        "# pdf = stats.rayleigh.pdf(xx,loc=0,scale=8.5)"
      ],
      "id": "demanding-utilization",
      "execution_count": null,
      "outputs": []
    },
    {
      "cell_type": "code",
      "metadata": {
        "ExecuteTime": {
          "end_time": "2021-07-07T04:22:36.222740Z",
          "start_time": "2021-07-07T04:22:35.988311Z"
        },
        "id": "latter-olive",
        "outputId": "4597a122-c7ca-4adf-910a-ad01e7cd6c7b"
      },
      "source": [
        "y_norm = y / sum(y)\n",
        "# y_norm\n",
        "plt.hist(expanded, density=True)\n",
        "plt.plot(pdf_fitted)"
      ],
      "id": "latter-olive",
      "execution_count": null,
      "outputs": [
        {
          "output_type": "execute_result",
          "data": {
            "text/plain": [
              "[<matplotlib.lines.Line2D at 0x7fb6fe3d2c90>]"
            ]
          },
          "metadata": {
            "tags": []
          },
          "execution_count": 308
        },
        {
          "output_type": "display_data",
          "data": {
            "image/png": "[encoded data removed]",
            "text/plain": [
              "<Figure size 432x288 with 1 Axes>"
            ]
          },
          "metadata": {
            "tags": [],
            "needs_background": "light"
          }
        }
      ]
    },
    {
      "cell_type": "code",
      "metadata": {
        "ExecuteTime": {
          "end_time": "2021-07-07T18:40:00.763525Z",
          "start_time": "2021-07-07T18:39:59.806902Z"
        },
        "id": "annual-pathology",
        "outputId": "ba0634ec-0c18-4f18-c243-00d39b1a99e2"
      },
      "source": [
        "plt.figure(figsize=(15,10))\n",
        "y = household_income_distribution['Household Counts']\n",
        "x = household_income_distribution.IncomeMax\n",
        "sns.barplot(y = y, \n",
        "       x = x)\n",
        "# plt.xticks(np.arange(0, len(a) + 1, 5))\n",
        "# plt.xticks([y[i] for i in [0, y // 2, -1]])\n",
        "plt.xticks(rotation=50)\n",
        "plt.ylabel(\"Household Counts (in thousands)\")\n",
        "plt.xlabel(\"Household Income\")\n",
        "plt.title(\"Distribution of Household Incomes, U.S. 2019\")"
      ],
      "id": "annual-pathology",
      "execution_count": null,
      "outputs": [
        {
          "output_type": "execute_result",
          "data": {
            "text/plain": [
              "Text(0.5, 1.0, 'Distribution of Household Incomes, U.S. 2019')"
            ]
          },
          "metadata": {
            "tags": []
          },
          "execution_count": 350
        },
        {
          "output_type": "display_data",
          "data": {
            "image/png": "[encoded data removed]",
            "text/plain": [
              "<Figure size 1080x720 with 1 Axes>"
            ]
          },
          "metadata": {
            "tags": []
          }
        }
      ]
    },
    {
      "cell_type": "code",
      "metadata": {
        "ExecuteTime": {
          "end_time": "2021-07-07T18:32:52.975937Z",
          "start_time": "2021-07-07T18:32:52.967405Z"
        },
        "id": "amino-scope",
        "outputId": "f356324c-cc5e-42f4-9122-5ee79a2c54d0"
      },
      "source": [
        "labels"
      ],
      "id": "amino-scope",
      "execution_count": null,
      "outputs": [
        {
          "output_type": "execute_result",
          "data": {
            "text/plain": [
              "[Text(0, 0, '5000'),\n",
              " Text(1, 0, '10000'),\n",
              " Text(2, 0, '15000'),\n",
              " Text(3, 0, '20000'),\n",
              " Text(4, 0, '25000'),\n",
              " Text(5, 0, '30000'),\n",
              " Text(6, 0, '35000'),\n",
              " Text(7, 0, '40000'),\n",
              " Text(8, 0, '45000'),\n",
              " Text(9, 0, '50000'),\n",
              " Text(10, 0, '55000'),\n",
              " Text(11, 0, '60000'),\n",
              " Text(12, 0, '65000'),\n",
              " Text(13, 0, '70000'),\n",
              " Text(14, 0, '75000'),\n",
              " Text(15, 0, '80000'),\n",
              " Text(16, 0, '85000'),\n",
              " Text(17, 0, '90000'),\n",
              " Text(18, 0, '95000'),\n",
              " Text(19, 0, '100000'),\n",
              " Text(20, 0, '105000'),\n",
              " Text(21, 0, '110000'),\n",
              " Text(22, 0, '115000'),\n",
              " Text(23, 0, '120000'),\n",
              " Text(24, 0, '125000'),\n",
              " Text(25, 0, '130000'),\n",
              " Text(26, 0, '135000'),\n",
              " Text(27, 0, '140000'),\n",
              " Text(28, 0, '145000'),\n",
              " Text(29, 0, '150000'),\n",
              " Text(30, 0, '155000'),\n",
              " Text(31, 0, '160000'),\n",
              " Text(32, 0, '165000'),\n",
              " Text(33, 0, '170000'),\n",
              " Text(34, 0, '175000'),\n",
              " Text(35, 0, '180000'),\n",
              " Text(36, 0, '185000'),\n",
              " Text(37, 0, '190000'),\n",
              " Text(38, 0, '195000'),\n",
              " Text(39, 0, '200000'),\n",
              " Text(40, 0, '210000'),\n",
              " Text(41, 0, '250000')]"
            ]
          },
          "metadata": {
            "tags": []
          },
          "execution_count": 337
        }
      ]
    },
    {
      "cell_type": "code",
      "metadata": {
        "ExecuteTime": {
          "end_time": "2021-07-07T20:40:40.812064Z",
          "start_time": "2021-07-07T20:40:40.799638Z"
        },
        "id": "subtle-stopping",
        "outputId": "ffa03bf9-d299-4e3b-b283-03a23bd78959"
      },
      "source": [
        "sample_rvs = stats.gamma.rvs(1.8487969675727172, \n",
        "                                                  0.1623439493968334, \n",
        "                                                  7.802909747837213, size = 10000)\n",
        "sample_rvs.mean()"
      ],
      "id": "subtle-stopping",
      "execution_count": null,
      "outputs": [
        {
          "output_type": "execute_result",
          "data": {
            "text/plain": [
              "14.525646006064102"
            ]
          },
          "metadata": {
            "tags": []
          },
          "execution_count": 370
        }
      ]
    },
    {
      "cell_type": "code",
      "metadata": {
        "ExecuteTime": {
          "end_time": "2021-07-07T20:41:05.798247Z",
          "start_time": "2021-07-07T20:41:05.788631Z"
        },
        "id": "virtual-benchmark",
        "outputId": "63783f3b-1e91-4361-c248-b8753e137c66"
      },
      "source": [
        "np.median(sample_rvs)"
      ],
      "id": "virtual-benchmark",
      "execution_count": null,
      "outputs": [
        {
          "output_type": "execute_result",
          "data": {
            "text/plain": [
              "11.886987737352888"
            ]
          },
          "metadata": {
            "tags": []
          },
          "execution_count": 372
        }
      ]
    },
    {
      "cell_type": "code",
      "metadata": {
        "ExecuteTime": {
          "end_time": "2021-07-07T21:17:25.331112Z",
          "start_time": "2021-07-07T21:17:25.320824Z"
        },
        "id": "following-copying",
        "outputId": "17b4a61b-fa8a-4a94-99e2-c2163e452920"
      },
      "source": [
        "# labor force\n",
        "num_worker_employed_required = int(161_086 * (1-0.03))\n",
        "num_employed_now = 151602\n",
        "num_needed = num_worker_employed_required - num_employed_now\n",
        "print(num_needed)"
      ],
      "id": "following-copying",
      "execution_count": null,
      "outputs": [
        {
          "output_type": "stream",
          "text": [
            "4651\n"
          ],
          "name": "stdout"
        }
      ]
    },
    {
      "cell_type": "code",
      "metadata": {
        "id": "adjacent-latest"
      },
      "source": [
        ""
      ],
      "id": "adjacent-latest",
      "execution_count": null,
      "outputs": []
    },
    {
      "cell_type": "code",
      "metadata": {
        "id": "jZWbmv-SHRmR"
      },
      "source": [
        ""
      ],
      "id": "jZWbmv-SHRmR",
      "execution_count": null,
      "outputs": []
    },
    {
      "cell_type": "code",
      "metadata": {
        "id": "o-FSzYsYAReq"
      },
      "source": [
        ""
      ],
      "id": "o-FSzYsYAReq",
      "execution_count": null,
      "outputs": []
    }
  ]
}